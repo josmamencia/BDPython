{
 "cells": [
  {
   "cell_type": "markdown",
   "metadata": {
    "collapsed": true
   },
   "source": [
    "# Lectura de ficheros\n",
    "\n",
    "En este notebook presentamos los ejemplos del capítulo 1 del libro *Big Data con Python: recolección, almacenamiento y procesamiento de datos*. En este capítulo aprendemos cómo cargar en Python aquellos datos que tenemos ya disponibles en distintos formatos. Los datos usados en esta capítulo, disponibles en la carpeta *Cap1* de GitHub, fueron descargados de la [iniciativa de datos abiertos del Gobierno de España](http://datos.gob.es/) en marzo de 2018. Los ficheros en CSV, JSON, XML y XLS se refieren a las subvenciones asignadas en 2016 a asociaciones del ámbito educativo por el ayuntamiento de Alcobendas; por su parte, el fichero TSV lo crearemos a partir del CSV.\n",
    "\n",
    "## CSV\n",
    "\n",
    "El primero de los formatos que veremos es CSV. Importamos la biblioteca correspondiente, **csv**"
   ]
  },
  {
   "cell_type": "code",
   "execution_count": 28,
   "metadata": {},
   "outputs": [],
   "source": [
    "import csv"
   ]
  },
  {
   "cell_type": "markdown",
   "metadata": {
    "collapsed": true
   },
   "source": [
    "Y comenzamos la carga del fichero. En primer lugar cargamos como un objeto iterable y lo recorremos con un bucle **for** para calcular el importe total de las subvenciones:"
   ]
  },
  {
   "cell_type": "code",
   "execution_count": 29,
   "metadata": {},
   "outputs": [
    {
     "name": "stdout",
     "output_type": "stream",
     "text": "66487.94\n"
    }
   ],
   "source": [
    "with open('../../data/Cap1/subvenciones.csv') as fichero_csv:\n",
    "    lector = csv.reader(fichero_csv)\n",
    "    next(lector, None)  # Se salta la cabecera\n",
    "    importe_total = 0\n",
    "    for linea in lector:\n",
    "        importe_str = linea[2]\n",
    "        importe = float(importe_str)\n",
    "        importe_total = importe_total + importe\n",
    "    print(importe_total)    "
   ]
  },
  {
   "cell_type": "markdown",
   "metadata": {
    "collapsed": true
   },
   "source": [
    "También podemos calcular las subvenciones por centro almacenando un diccionario que tenga como clave el nombre del centro y como valor las subvenciones recibidas:"
   ]
  },
  {
   "cell_type": "code",
   "execution_count": 0,
   "metadata": {},
   "outputs": [],
   "source": [
    "with open('../../data/Cap1/subvenciones.csv', encoding='latin1') as fichero_csv:\n",
    "    lector = csv.reader(fichero_csv)\n",
    "    next(lector, None)\n",
    "    asociaciones = {}\n",
    "    for linea in lector:\n",
    "        centro = linea[0]\n",
    "        subvencion = float(linea[2])\n",
    "        if centro in asociaciones:\n",
    "            asociaciones[centro] = asociaciones[centro] + subvencion\n",
    "        else:\n",
    "            asociaciones[centro] = subvencion\n",
    "    print(asociaciones)"
   ]
  },
  {
   "cell_type": "markdown",
   "metadata": {},
   "source": [
    "Es también posible cargar el fichero como un diccionario. En este caso cada una de las filas será un diccionario en el que la clave será el nombre dado en la cabecera del fichero y el valor el indicado en esa fila. De esta manera podemos acceder a los valores usando nombres y no la posición, lo que nos permite escribir un código más intuitivo. A continuación mostramos cómo sería el código para calcular el diccionario de subvenciones mostrado anteriormente de esta manera:"
   ]
  },
  {
   "cell_type": "code",
   "execution_count": 0,
   "metadata": {},
   "outputs": [],
   "source": [
    "with open('../../data/Cap1/subvenciones.csv', encoding='latin1') as fichero_csv:\n",
    "    dict_lector = csv.DictReader(fichero_csv)\n",
    "    asociaciones = {}\n",
    "    for linea in dict_lector:\n",
    "        centro = linea['Asociación']\n",
    "        subvencion = float(linea['Importe'])\n",
    "        if centro in asociaciones:\n",
    "            asociaciones[centro] = asociaciones[centro] + subvencion\n",
    "        else:\n",
    "            asociaciones[centro] = subvencion\n",
    "    print(asociaciones)"
   ]
  },
  {
   "cell_type": "markdown",
   "metadata": {},
   "source": [
    "Es interesante notar como en el código anterior no fue necesario saltarse la primera línea del iterador, ya que se consume directamente cuando cargamos el fichero como un diccionario para asignar nombres a los campos. Si la primera fila no tuviese estos nombres podríamos usar la opción **fieldnames=[..]** para especificarlos y sí se cargaría. Ahora vamos a ver cómo crear un nuevo fichero CSV. Para ello, vamos a modificar nuestro fichero de subvenciones con dos nuevas columnas, **\"Justificación requerida\"** y **\"Justificación recibida\"**. En el primera almacenaremos **Sí** si la subvención pasa de **300** euros y **No** en otro caso; en la segunda pondremos siempre **No**, ya que todavía no hemos recibido justificación alguna."
   ]
  },
  {
   "cell_type": "code",
   "execution_count": 0,
   "metadata": {},
   "outputs": [],
   "source": [
    "with open('../../data/Cap1/subvenciones.csv', encoding='latin1') as fich_lect, open('../../data/Cap1/subvenciones_esc.csv', 'w', encoding='latin1') as fich_escr:\n",
    "    dict_lector = csv.DictReader(fich_lect)\n",
    "    campos = dict_lector.fieldnames + ['Justificación requerida', 'Justificación recibida']\n",
    "    escritor = csv.DictWriter(fich_escr, fieldnames=campos)\n",
    "    escritor.writeheader()\n",
    "    for linea in dict_lector:\n",
    "        if float(linea['Importe']) > 300:\n",
    "            linea['Justificación requerida'] = \"Sí\"\n",
    "        else:\n",
    "            linea['Justificación requerida'] = \"No\"\n",
    "        linea['Justificación recibida'] = \"No\"\n",
    "        escritor.writerow(linea)"
   ]
  },
  {
   "cell_type": "markdown",
   "metadata": {},
   "source": [
    "## TSV"
   ]
  },
  {
   "cell_type": "markdown",
   "metadata": {},
   "source": [
    "El formato TSV es similar al CSV, pero en el caso de TSV las columnas se separan con tabuladores. Para crear y manipular estos ficheros seguiremos usando la biblioteca **csv**, usando la opción **delimiter='\\t'**. Por ejemplo, podemos crear un fichero TSV a partir del CSV anterior simplemente usando esta opción al crear el objeto **escritor**:"
   ]
  },
  {
   "cell_type": "code",
   "execution_count": 0,
   "metadata": {},
   "outputs": [],
   "source": [
    "with open('../../data/Cap1/subvenciones.csv', encoding='latin1') as fich_lect, open('../../data/Cap1/subvenciones.tsv', 'w', encoding='latin1') as fich_escr:\n",
    "    dict_lector = csv.DictReader(fich_lect)\n",
    "    campos = dict_lector.fieldnames\n",
    "    escritor = csv.DictWriter(fich_escr, delimiter='\\t', fieldnames=campos)\n",
    "    escritor.writeheader()\n",
    "    for linea in dict_lector:\n",
    "        escritor.writerow(linea)"
   ]
  },
  {
   "cell_type": "markdown",
   "metadata": {},
   "source": [
    "Una vez creado el fichero, podemos recorrerlo como hacíamos arriba, eligiendo como separador el tabulador. La función siguiente calcula las subvenciones por centro como hicimos con CSV:"
   ]
  },
  {
   "cell_type": "code",
   "execution_count": 0,
   "metadata": {},
   "outputs": [],
   "source": [
    "with open('../../data/Cap1/subvenciones.tsv', encoding='latin1') as fichero:\n",
    "    dict_lector = csv.DictReader(fichero, delimiter='\\t')\n",
    "    asociaciones = {}\n",
    "    for linea in dict_lector:\n",
    "        centro = linea['Asociación']\n",
    "        subvencion = float(linea['Importe'])\n",
    "        if centro in asociaciones:\n",
    "            asociaciones[centro] = asociaciones[centro] + subvencion\n",
    "        else:\n",
    "            asociaciones[centro] = subvencion\n",
    "    print(asociaciones)"
   ]
  },
  {
   "cell_type": "markdown",
   "metadata": {},
   "source": [
    "## JSON"
   ]
  },
  {
   "cell_type": "markdown",
   "metadata": {},
   "source": [
    "En esta sección cargaremos los ficheros de subvenciones dados en formato JSON. En primer lugar, cargamos la biblioteca **json**"
   ]
  },
  {
   "cell_type": "code",
   "execution_count": 0,
   "metadata": {},
   "outputs": [],
   "source": [
    "import json"
   ]
  },
  {
   "cell_type": "markdown",
   "metadata": {},
   "source": [
    "Los objetos JSON se cargan en Python como diccionarios, mientras que los *arrays* JSON se traducen como listas Python. Con esta información podemos usar **load** para cargar y visualizar el fichero:"
   ]
  },
  {
   "cell_type": "code",
   "execution_count": 0,
   "metadata": {},
   "outputs": [],
   "source": [
    "with open('../../data/Cap1/subvenciones.json') as fich:\n",
    "    datos = json.load(fich)\n",
    "    print(datos[0:2])"
   ]
  },
  {
   "cell_type": "markdown",
   "metadata": {},
   "source": [
    "Como vemos, nuestro fichero JSON consiste en una lista de objetos donde cada uno de estos objetos se corresponde con una subvención, es decir, contiene 3 campos correspondientes a **\"Asociación\"**, **\"Actividad Subvencionada\"** e **\"Importe en euros\"**. Sin embargo, el disponer de un formato más flexible nos permite almacenar la información de manera más compacta: podríamos tener un objeto JSON por cada centro, con los campos **\"Asociación\"** y **\"Actividades\"**. Este segundo campo consistiría a su vez en una lista de objetos con los campos **\"Actividad Subvencionada\"** e **\"Importe en euros\"**. Vamos a escribir el código Python necesario para transformar nuestro fichero y guardarlo en un nuevo fichero **subvenciones_agrupadas.json**:"
   ]
  },
  {
   "cell_type": "code",
   "execution_count": 0,
   "metadata": {},
   "outputs": [],
   "source": [
    "with open('../../data/Cap1/subvenciones.json', encoding='utf-8') as fich_lect, open('../../data/Cap1/subvenciones_agrupadas.json', 'w', encoding='utf-8') as fich_escr:\n",
    "    data = json.load(fich_lect)\n",
    "    asoc_str = \"Asociación\"\n",
    "    act_str = \"Actividad Subvencionada\"\n",
    "    imp_str = \"Importe en euros\"\n",
    "    lista = []\n",
    "    lista_act = []\n",
    "    asoc_actual = \"\"\n",
    "    dicc = {}\n",
    "    for elem in data:\n",
    "        asoc = elem[asoc_str]\n",
    "        act = elem[act_str]\n",
    "        imp = elem[imp_str]\n",
    "        if asoc_actual != asoc:\n",
    "            dicc[\"Actividades\"] = lista_act\n",
    "            dicc = {\"Asociación\": asoc}\n",
    "            lista.append(dicc)\n",
    "            lista_act = []\n",
    "        lista_act.append({act_str : act, imp_str : imp})\n",
    "        asoc_actual = asoc\n",
    "    print(lista)\n",
    "    json.dump(lista, fich_escr, ensure_ascii=False, indent=4) # , sort_keys=False"
   ]
  },
  {
   "cell_type": "markdown",
   "metadata": {},
   "source": [
    "Intentemos ahora calcular, como hicimos para CSV, el total de gasto para cada centro y almacenarlo como un nuevo campo de la estructura que hemos creado arriba. El código necesario para ello es:"
   ]
  },
  {
   "cell_type": "code",
   "execution_count": 0,
   "metadata": {},
   "outputs": [],
   "source": [
    "with open('../../data/Cap1/subvenciones.json', encoding='utf-8') as fich_lect, open('../../data/Cap1/subvenciones_agrupadas_error.json', 'w', encoding='utf-8') as fich_escr:\n",
    "    data = json.load(fich_lect)\n",
    "    asoc_str = \"Asociación\"\n",
    "    act_str = \"Actividad Subvencionada\"\n",
    "    imp_str = \"Importe en euros\"\n",
    "    lista = []\n",
    "    lista_act = []\n",
    "    asoc_actual = \"\"\n",
    "    dicc = {}\n",
    "    gasto = 0\n",
    "    for elem in data:\n",
    "        asoc = elem[asoc_str]\n",
    "        act = elem[act_str]\n",
    "        imp = float(elem[imp_str])\n",
    "        if asoc_actual != asoc:\n",
    "            dicc[\"Actividades\"] = lista_act\n",
    "            dicc[\"Gasto\"] = gasto\n",
    "            dicc = {\"Asociación\": asoc}\n",
    "            lista.append(dicc)\n",
    "            lista_act = []\n",
    "            gasto = 0\n",
    "        lista_act.append({act_str : act, imp_str : imp})\n",
    "        gasto = gasto + imp\n",
    "        asoc_actual = asoc\n",
    "    print(lista)\n",
    "    json.dump(lista, fich_escr, ensure_ascii=False, indent=4) # , sort_keys=False"
   ]
  },
  {
   "cell_type": "markdown",
   "metadata": {},
   "source": [
    "Como se puede observar, ¡el código falla! El problema es que se han añadido puntos en cantidades con miles de euros. Por ejemplo, 1000 euros se han introducido en el fichero JSON como 1.000.00, indicando el primer punto los miles y el segundo los decimales. Python no es capaz de analizar este número, por lo que vamos a crear el nuevo JSON a partir del fichero CSV que usamos en el capítulo anterior."
   ]
  },
  {
   "cell_type": "code",
   "execution_count": 0,
   "metadata": {},
   "outputs": [],
   "source": [
    "with open('../../data/Cap1/subvenciones.csv', encoding='latin1') as fich_lect, open('../../data/Cap1/subvenciones_agrupadas_con_gasto.json', 'w', encoding='utf-8') as fich_escr:\n",
    "    dict_lector = csv.DictReader(fich_lect)\n",
    "    asoc_str = \"Asociación\"\n",
    "    act_str = \"Actividad Subvencionada \"\n",
    "    imp_str = \"Importe\"\n",
    "    lista = []\n",
    "    lista_act = []\n",
    "    asoc_actual = \"\"\n",
    "    dicc = {}\n",
    "    gasto = 0\n",
    "    for linea in dict_lector:\n",
    "        asoc = linea[asoc_str]\n",
    "        act = linea[act_str]\n",
    "        imp = float(linea[imp_str])\n",
    "        if asoc_actual != asoc:\n",
    "            dicc[\"Actividades\"] = lista_act\n",
    "            dicc[\"Gasto\"] = gasto\n",
    "            dicc = {\"Asociación\": asoc}\n",
    "            lista.append(dicc)\n",
    "            lista_act = []\n",
    "            gasto = 0\n",
    "        lista_act.append({act_str : act, imp_str : imp})\n",
    "        gasto = gasto + imp\n",
    "        asoc_actual = asoc\n",
    "    json.dump(lista, fich_escr, ensure_ascii=False, indent=4) # , sort_keys=False"
   ]
  },
  {
   "cell_type": "markdown",
   "metadata": {},
   "source": [
    "## Excel"
   ]
  },
  {
   "cell_type": "markdown",
   "metadata": {},
   "source": [
    "Python no tiene una biblioteca estándar para tratar con ficheros Excel, por lo que presentaremos las bibliotecas **xlrd** y **xlwt** para lectura y escritura, respectivamente. Estas bibliotecas pueden ser consideradas estándares *de facto*, aunque presentaremos también brevemente la biblioteca **pandas** para lectura y escritura de dataframes desde/hacia ficheros Excel. Empezamos cargando las correspondientes bibliotecas:"
   ]
  },
  {
   "cell_type": "code",
   "execution_count": 0,
   "metadata": {},
   "outputs": [],
   "source": [
    "from xlrd import open_workbook, colname\n",
    "import xlwt"
   ]
  },
  {
   "cell_type": "markdown",
   "metadata": {},
   "source": [
    "Empezaremos calculando la subvención total recibida por centro:"
   ]
  },
  {
   "cell_type": "code",
   "execution_count": 0,
   "metadata": {},
   "outputs": [],
   "source": [
    "with open_workbook('../../data/Cap1/subvenciones.xls',on_demand=True) as libro:\n",
    "    asociaciones = {}\n",
    "    for nombre in libro.sheet_names():\n",
    "        hoja = libro.sheet_by_name(nombre)\n",
    "        for i in range(1,hoja.nrows):\n",
    "            fila = hoja.row(i)\n",
    "            centro = fila[0].value\n",
    "            subvencion = fila[2].value\n",
    "            #print(fila[0].ctype)\n",
    "            #print(fila[2].value)\n",
    "            if centro in asociaciones:\n",
    "                asociaciones[centro] = asociaciones[centro] + subvencion\n",
    "            else:\n",
    "                asociaciones[centro] = subvencion\n",
    "    print(asociaciones)"
   ]
  },
  {
   "cell_type": "markdown",
   "metadata": {},
   "source": [
    "Ahora crearemos una nueva hoja, en la que tendremos una tabla con los centros, la subvención recibida, la subvención justificada, y la subvención que queda por justificar, que será una fórmula:"
   ]
  },
  {
   "cell_type": "code",
   "execution_count": 0,
   "metadata": {},
   "outputs": [],
   "source": [
    "with open_workbook('../../data/Cap1/subvenciones.xls',on_demand=True) as libro_lect:\n",
    "    asociaciones = {}\n",
    "    libro_escr = xlwt.Workbook()\n",
    "    for nombre in libro_lect.sheet_names():\n",
    "        hoja_lect = libro_lect.sheet_by_name(nombre)\n",
    "        hoja_escr = libro_escr.add_sheet(nombre)\n",
    "        for i in range(hoja_lect.nrows):\n",
    "            for j in range(hoja_lect.ncols):\n",
    "                hoja_escr.write(i, j, hoja_lect.row(i)[j].value)\n",
    "            if i != 0:\n",
    "                fila = hoja_lect.row(i)\n",
    "                centro = fila[0].value\n",
    "                subvencion = float(fila[2].value)\n",
    "                if centro in asociaciones:\n",
    "                    asociaciones[centro] = asociaciones[centro] + subvencion\n",
    "                else:\n",
    "                    asociaciones[centro] = subvencion\n",
    "    hoja_escr = libro_escr.add_sheet('Totales')\n",
    "    hoja_escr.write(0, 0, \"Asociación\")\n",
    "    hoja_escr.write(0, 1, \"Importe total\")\n",
    "    hoja_escr.write(0, 2, \"Importe justificado\")\n",
    "    hoja_escr.write(0, 3, \"Restante\")\n",
    "    for i, clave in enumerate(asociaciones):\n",
    "        fila = i + 1\n",
    "        fila_form = i + 2\n",
    "        hoja_escr.write(fila, 0, clave)\n",
    "        hoja_escr.write(fila, 1, asociaciones[clave])\n",
    "        hoja_escr.write(fila, 2, 0)\n",
    "        hoja_escr.write(fila, 3, xlwt.Formula(\"C\" + str(fila_form) + \"-\" + \"B\" + str(fila_form)))\n",
    "    libro_escr.save('../../data/Cap1/subvenciones_totales.xls')"
   ]
  },
  {
   "cell_type": "code",
   "execution_count": 0,
   "metadata": {},
   "outputs": [],
   "source": [
    "print(colname(2), colname(35))"
   ]
  },
  {
   "cell_type": "markdown",
   "metadata": {
    "collapsed": true
   },
   "source": [
    "Es también posible usar la biblioteca **pandas** para cargar y guardar **dataframes**:"
   ]
  },
  {
   "cell_type": "code",
   "execution_count": 0,
   "metadata": {},
   "outputs": [],
   "source": [
    "import pandas\n",
    "with pandas.ExcelFile('../../data/Cap1/subvenciones.xls') as xl:\n",
    "    writer = pandas.ExcelWriter('../../data/Cap1/subvenciones_df.xls')\n",
    "    for nombre in xl.sheet_names:\n",
    "        df = xl.parse(nombre)\n",
    "        df.to_excel(writer,nombre)\n",
    "    writer.save()"
   ]
  },
  {
   "cell_type": "markdown",
   "metadata": {
    "collapsed": true
   },
   "source": [
    "## XML"
   ]
  },
  {
   "cell_type": "markdown",
   "metadata": {},
   "source": [
    "Por último vamos a ver cómo manipular ficheros **XML** con la biblioteca **etree**."
   ]
  },
  {
   "cell_type": "code",
   "execution_count": 0,
   "metadata": {},
   "outputs": [],
   "source": [
    "import xml.etree.ElementTree as ET"
   ]
  },
  {
   "cell_type": "markdown",
   "metadata": {},
   "source": [
    "Como en los ejemplos anteriores, vamos a empezar recorriendo el fichero y calculando un diccionario con la subvención total para cada centro:"
   ]
  },
  {
   "cell_type": "code",
   "execution_count": 0,
   "metadata": {},
   "outputs": [],
   "source": [
    "arbol = ET.parse('../../data/Cap1/subvenciones.xml')\n",
    "raiz = arbol.getroot()\n",
    "asociaciones = {}\n",
    "for fila in raiz:\n",
    "    centro = fila[0].text\n",
    "    subvencion = float(fila[2].text)\n",
    "    if centro in asociaciones:\n",
    "        asociaciones[centro] = asociaciones[centro] + subvencion\n",
    "    else:\n",
    "        asociaciones[centro] = subvencion\n",
    "print(asociaciones)"
   ]
  },
  {
   "cell_type": "code",
   "execution_count": 0,
   "metadata": {},
   "outputs": [],
   "source": [
    "arbol = ET.parse('../../data/Cap1/subvenciones.xml')\n",
    "asociaciones = {}\n",
    "for fila in arbol.findall('Row'): # raiz.iter('Row'):\n",
    "    centro = fila.find('Asociaci_n').text\n",
    "    subvencion = float(fila.find('Importe').text)\n",
    "    if centro in asociaciones:\n",
    "        asociaciones[centro] = asociaciones[centro] + subvencion\n",
    "    else:\n",
    "        asociaciones[centro] = subvencion\n",
    "print(asociaciones)"
   ]
  },
  {
   "cell_type": "markdown",
   "metadata": {},
   "source": [
    "Igual que ocurría con JSON, el formato XML es más flexible que CVS y Excel y nos permite representar la información de manera más compacta. Vamos a crear un nuevo fichero XML a partir del que tenemos que contará con una raíz que tendrá como elementos las distintas asociaciones. Cada **Asociacion** tendrá como atributo su **nombre** y como elementos la subvención **Total** y la lista de **Actividades**. La lista de actividades tendrá elemenos **Actividad** con **Nombre** y **Gasto**."
   ]
  },
  {
   "cell_type": "code",
   "execution_count": 0,
   "metadata": {},
   "outputs": [],
   "source": [
    "arbol = ET.parse('../../data/Cap1/subvenciones.xml')\n",
    "raiz = arbol.getroot()\n",
    "nuevo = ET.ElementTree()\n",
    "raiz_nueva = ET.Element(\"Raiz\")\n",
    "nuevo._setroot(raiz_nueva)\n",
    "elem_actual = ET.Element(\"Asociacion\")\n",
    "asoc_actual = \"\"\n",
    "actividades = ET.SubElement(elem_actual, \"Actividades\")\n",
    "gasto = 0\n",
    "for fila in raiz.findall('Row'):\n",
    "    asoc = fila.find('Asociaci_n').text\n",
    "    act = fila.find('Actividad_Subvencionada').text\n",
    "    imp = float(fila.find('Importe').text)\n",
    "    if asoc_actual != asoc:\n",
    "        gas_total = ET.SubElement(elem_actual, \"Total\")\n",
    "        gas_total.text = str(gasto)\n",
    "        elem_actual = ET.SubElement(raiz_nueva, \"Asociacion\")\n",
    "        elem_actual.set('nombre', asoc)\n",
    "        actividades = ET.SubElement(elem_actual, \"Actividades\")\n",
    "        gasto = 0\n",
    "    act_elem = ET.SubElement(actividades, \"Actividad\")\n",
    "    nom_elem = ET.SubElement(act_elem, \"Nombre\")\n",
    "    nom_elem.text = act\n",
    "    imp_elem = ET.SubElement(act_elem, \"Subvencion\")\n",
    "    imp_elem.text = str(imp)\n",
    "    gasto = gasto + imp\n",
    "    asoc_actual = asoc\n",
    "nuevo.write('../../data/Cap1/subvenciones_lista_total.xml')"
   ]
  },
  {
   "cell_type": "code",
   "execution_count": null,
   "metadata": {
    "collapsed": true
   },
   "outputs": [],
   "source": []
  }
 ],
 "metadata": {
  "kernelspec": {
   "display_name": "Python 2",
   "language": "python",
   "name": "python2"
  },
  "language_info": {
   "codemirror_mode": {
    "name": "ipython",
    "version": 3
   },
   "file_extension": ".py",
   "mimetype": "text/x-python",
   "name": "python",
   "nbconvert_exporter": "python",
   "pygments_lexer": "ipython3",
   "version": "3.7.5-candidate"
  }
 },
 "nbformat": 4,
 "nbformat_minor": 2
}